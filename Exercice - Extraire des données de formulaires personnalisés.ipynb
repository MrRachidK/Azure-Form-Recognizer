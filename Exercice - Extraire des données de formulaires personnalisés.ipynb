{
 "cells": [
  {
   "cell_type": "markdown",
   "metadata": {},
   "source": [
    "Dans cet exercice, nous allons utiliser le service Form Recognizer pour :\n",
    "\n",
    "- Former et tester un modèle personnalisé à l’aide d’une formation non supervisée (sans étiquettes) avec le SDK Python ou .NET.\n",
    "- Former et tester un modèle personnalisé à l’aide d’une formation supervisée (avec étiquettes) avec le SDK Python ou .NET."
   ]
  },
  {
   "cell_type": "markdown",
   "metadata": {},
   "source": [
    "## Pour commencer"
   ]
  },
  {
   "cell_type": "markdown",
   "metadata": {},
   "source": [
    "Pour utiliser le service Form Recognizer, vous devez récupérer la ressource Form Recognizer dans votre souscription à Azure. Vous devez utiliser le portail Azure pour créer cette ressource."
   ]
  },
  {
   "cell_type": "markdown",
   "metadata": {},
   "source": [
    "Une fois que la ressource a été déployée, dirigez-vous vers la page <b>Keys and Endpoint</b>. Vous aurez besoin de l'endpoint et d'une des clés de cette page pour pouvoir accéder au service via le code."
   ]
  },
  {
   "cell_type": "markdown",
   "metadata": {},
   "source": [
    "## Rassembler les documents pour l'entraînement"
   ]
  },
  {
   "cell_type": "markdown",
   "metadata": {},
   "source": [
    "En exemple dans cet exercice, on peut procéder ainsi :\n",
    "- un premier modèle non supervisé avec uniquement les fichiers .jpg\n",
    "- un second modèle supervisé avec les fichiers .jpg et .json (les fichiers .json contenant la labellisation des fichiers)"
   ]
  },
  {
   "cell_type": "markdown",
   "metadata": {},
   "source": [
    "On devra se servir de l'ID de souscription, du nom du groupe de ressource et la localisation du groupe de ressources créé dans un fichier setup. En mettant en route ce fichier setup, on active le groupe de ressource et on obtient en sortie un lien URI SAS (Shared Access Signature) qui donne accès à ce groupe de ressources. Il faudra garder ce lien URI pour plus tard"
   ]
  },
  {
   "cell_type": "markdown",
   "metadata": {},
   "source": [
    "Sur le portail Azure, une fois la manipulation faite, il faut se rendre au groupe de ressources concerné pour vérifier si les fichiers ont bien été uploadés à partir du repo cloné."
   ]
  },
  {
   "cell_type": "markdown",
   "metadata": {},
   "source": [
    "## Entraîner un modèle non supervisé"
   ]
  },
  {
   "cell_type": "markdown",
   "metadata": {},
   "source": [
    "On va utiliser un SDK Form Recognizer pour entraîner et tester un modèle personnalisé. Pour cela, dans le repo cloné, dans le dossier <b>21-custom-form</b>, si on souhaite travailler en Python, on se rend dans le dossier correspondant.\n",
    "Pour le dossier train-model, on ouvre un terminal intégré à ce dossier pour insérer la commande suivante :"
   ]
  },
  {
   "cell_type": "code",
   "execution_count": 1,
   "metadata": {},
   "outputs": [
    {
     "name": "stdout",
     "output_type": "stream",
     "text": [
      "Collecting azure-ai-formrecognizer==3.0.0\n",
      "  Downloading azure_ai_formrecognizer-3.0.0-py2.py3-none-any.whl (73 kB)\n",
      "Collecting azure-core<2.0.0,>=1.6.0\n",
      "  Downloading azure_core-1.21.1-py2.py3-none-any.whl (178 kB)\n",
      "Collecting msrest>=0.6.12\n",
      "  Downloading msrest-0.6.21-py2.py3-none-any.whl (85 kB)\n",
      "Requirement already satisfied: six>=1.6 in c:\\users\\rachid\\appdata\\roaming\\python\\python38\\site-packages (from azure-ai-formrecognizer==3.0.0) (1.15.0)\n",
      "Requirement already satisfied: requests>=2.18.4 in c:\\users\\rachid\\anaconda3\\lib\\site-packages (from azure-core<2.0.0,>=1.6.0->azure-ai-formrecognizer==3.0.0) (2.24.0)\n",
      "Collecting isodate>=0.6.0\n",
      "  Downloading isodate-0.6.1-py2.py3-none-any.whl (41 kB)\n",
      "Requirement already satisfied: certifi>=2017.4.17 in c:\\users\\rachid\\anaconda3\\lib\\site-packages (from msrest>=0.6.12->azure-ai-formrecognizer==3.0.0) (2020.6.20)\n",
      "Collecting requests-oauthlib>=0.5.0\n",
      "  Downloading requests_oauthlib-1.3.0-py2.py3-none-any.whl (23 kB)\n",
      "Requirement already satisfied: urllib3!=1.25.0,!=1.25.1,<1.26,>=1.21.1 in c:\\users\\rachid\\anaconda3\\lib\\site-packages (from requests>=2.18.4->azure-core<2.0.0,>=1.6.0->azure-ai-formrecognizer==3.0.0) (1.25.11)\n",
      "Requirement already satisfied: chardet<4,>=3.0.2 in c:\\users\\rachid\\anaconda3\\lib\\site-packages (from requests>=2.18.4->azure-core<2.0.0,>=1.6.0->azure-ai-formrecognizer==3.0.0) (3.0.4)\n",
      "Requirement already satisfied: idna<3,>=2.5 in c:\\users\\rachid\\anaconda3\\lib\\site-packages (from requests>=2.18.4->azure-core<2.0.0,>=1.6.0->azure-ai-formrecognizer==3.0.0) (2.10)\n",
      "Collecting oauthlib>=3.0.0\n",
      "  Downloading oauthlib-3.1.1-py2.py3-none-any.whl (146 kB)\n",
      "Installing collected packages: azure-core, isodate, oauthlib, requests-oauthlib, msrest, azure-ai-formrecognizer\n",
      "Successfully installed azure-ai-formrecognizer-3.0.0 azure-core-1.21.1 isodate-0.6.1 msrest-0.6.21 oauthlib-3.1.1 requests-oauthlib-1.3.0\n",
      "Note: you may need to restart the kernel to use updated packages.\n"
     ]
    }
   ],
   "source": [
    "pip install azure-ai-formrecognizer==3.0.0"
   ]
  },
  {
   "cell_type": "markdown",
   "metadata": {},
   "source": [
    "Un fichier .env est alors créé. Le fichier doit être édité avec les renseignements suivants :\n",
    "- l'endpoint de la ressource Form Recognizer\n",
    "- la clé de la ressource Form Recognizer\n",
    "- l'URI SAS du conteneur des fichiers nécessaires à l'entraînement"
   ]
  },
  {
   "cell_type": "markdown",
   "metadata": {},
   "source": [
    "Le fichier train-model.py permettra alors d'entraîner le modèle"
   ]
  },
  {
   "cell_type": "code",
   "execution_count": 3,
   "metadata": {},
   "outputs": [
    {
     "ename": "SyntaxError",
     "evalue": "invalid syntax (<ipython-input-3-e095850bc457>, line 1)",
     "output_type": "error",
     "traceback": [
      "\u001b[1;36m  File \u001b[1;32m\"<ipython-input-3-e095850bc457>\"\u001b[1;36m, line \u001b[1;32m1\u001b[0m\n\u001b[1;33m    python train-model.py\u001b[0m\n\u001b[1;37m           ^\u001b[0m\n\u001b[1;31mSyntaxError\u001b[0m\u001b[1;31m:\u001b[0m invalid syntax\n"
     ]
    }
   ],
   "source": [
    "python train-model.py"
   ]
  },
  {
   "cell_type": "markdown",
   "metadata": {},
   "source": [
    "En sortie, il faut récupérer l'ID du modèle ainsi entraîné."
   ]
  },
  {
   "cell_type": "markdown",
   "metadata": {},
   "source": [
    "## Tester le modèle non supervisé créé"
   ]
  },
  {
   "cell_type": "markdown",
   "metadata": {},
   "source": [
    "Maintenant que nous sommes prêts à utiliser notre modèle entraîné à partir des fichiers du container, on va devoir tester notre modèle."
   ]
  },
  {
   "cell_type": "markdown",
   "metadata": {},
   "source": [
    "Tout comme pour l'entraînement, il faut aussi lancer un terminal intégré au dossier test-model. Dans ce terminal, on peut alors installer le package Form Recognizer :"
   ]
  },
  {
   "cell_type": "code",
   "execution_count": null,
   "metadata": {},
   "outputs": [],
   "source": [
    "pip install azure-ai-formrecognizer==3.0.0"
   ]
  },
  {
   "cell_type": "markdown",
   "metadata": {},
   "source": [
    "Dans le dossier test-model, il faut éditer le fichier .env avec les valeurs suivants :\n",
    "- l'endpoint de la ressource Form Recognizer\n",
    "- la clé de la ressource Form Recognizer\n",
    "- l'ID du modèle entraîné"
   ]
  },
  {
   "cell_type": "markdown",
   "metadata": {},
   "source": [
    "On peut alors mettre en route le script test-model.py. Le formulaire testé, qui se trouve dans le dossier test-model, sera analysé :"
   ]
  },
  {
   "cell_type": "code",
   "execution_count": null,
   "metadata": {},
   "outputs": [],
   "source": [
    "python test-model.py"
   ]
  },
  {
   "cell_type": "markdown",
   "metadata": {},
   "source": [
    "En output, des scores de confiance sont mis en avant pour les différents champs du formulaire."
   ]
  },
  {
   "cell_type": "markdown",
   "metadata": {},
   "source": [
    "## Entraîner un modèle supervisé en utilisant une librairie client"
   ]
  },
  {
   "cell_type": "markdown",
   "metadata": {},
   "source": [
    "Supposons qu'après avoir entraîné un modèle dédié aux formulaires, on souhaiterait voir comment un modèle entraîné sur des données labellisées se comporte. \n",
    "Quand on a entraîné un modèle non supervisé, on a seulement utilisé des formulaires au format .jpg depuis notre container. Maintenant, nous allons entraîner un modèle en utilisant les fichiers .jpg et .json."
   ]
  },
  {
   "cell_type": "markdown",
   "metadata": {},
   "source": [
    "Dans le fichier fields.json, on peut vérifier les champs sur lesquels le modèle va s'entraîner pour les formulaires. "
   ]
  },
  {
   "cell_type": "markdown",
   "metadata": {},
   "source": [
    "Dans le fichier Form_1.jpg.labels.json, on retrouve la localisation et les valeurs des champs nommés du formulaire."
   ]
  },
  {
   "cell_type": "markdown",
   "metadata": {},
   "source": [
    "Dans le fichier Form_1.jpg.ocr.json, on retrouve la disposition textuelle donc la localisation de tous les champs de texte du formulaire."
   ]
  },
  {
   "cell_type": "markdown",
   "metadata": {},
   "source": [
    "Dans le dossier train-model, on doit ouvrir le fichier train-model.py et écrire les lignes de code suivantes :"
   ]
  },
  {
   "cell_type": "code",
   "execution_count": null,
   "metadata": {},
   "outputs": [],
   "source": [
    "# Train model\n",
    "poller = form_training_client.begin_training(trainingDataUrl, use_training_labels=True)\n",
    "model = poller.result()"
   ]
  },
  {
   "cell_type": "markdown",
   "metadata": {},
   "source": [
    "Dans le terminal intégré au modèle, on relance le fichier :"
   ]
  },
  {
   "cell_type": "code",
   "execution_count": null,
   "metadata": {},
   "outputs": [],
   "source": [
    "python train-model.py"
   ]
  },
  {
   "cell_type": "markdown",
   "metadata": {},
   "source": [
    "Un output est alors affiché avec les scores de confiance pour chaque champ. On récupère de ce fait l'ID du modèle."
   ]
  },
  {
   "cell_type": "markdown",
   "metadata": {},
   "source": [
    "## Test du modèle supervisé"
   ]
  },
  {
   "cell_type": "markdown",
   "metadata": {},
   "source": [
    "Dans le dossier test-model, on édite le fichier .env en y insérant l'ID du modèle."
   ]
  },
  {
   "cell_type": "markdown",
   "metadata": {},
   "source": [
    "Dans le terminal intégré à test-model, on exécute le fichier :"
   ]
  },
  {
   "cell_type": "code",
   "execution_count": null,
   "metadata": {},
   "outputs": [],
   "source": [
    "python test-model.py"
   ]
  },
  {
   "cell_type": "markdown",
   "metadata": {},
   "source": [
    "On voit l'output qui peut fournir des noms de champs."
   ]
  }
 ],
 "metadata": {
  "kernelspec": {
   "display_name": "Python 3",
   "language": "python",
   "name": "python3"
  },
  "language_info": {
   "codemirror_mode": {
    "name": "ipython",
    "version": 3
   },
   "file_extension": ".py",
   "mimetype": "text/x-python",
   "name": "python",
   "nbconvert_exporter": "python",
   "pygments_lexer": "ipython3",
   "version": "3.8.5"
  }
 },
 "nbformat": 4,
 "nbformat_minor": 4
}
