{
 "cells": [
  {
   "cell_type": "markdown",
   "metadata": {},
   "source": [
    "# Applications de Form Recognizer"
   ]
  },
  {
   "cell_type": "markdown",
   "metadata": {},
   "source": [
    "- [API Rest : Analyser le formulaire](https://westcentralus.dev.cognitive.microsoft.com/docs/services/form-recognizer-api-v2-1-preview-3/operations/AnalyzeWithCustomForm)\n",
    "- [API Rest : Obtenir le résultat de l'analyse du formulaire](https://westcentralus.dev.cognitive.microsoft.com/docs/services/form-recognizer-api-v2-1-preview-3/operations/GetAnalyzeFormResult)"
   ]
  },
  {
   "cell_type": "markdown",
   "metadata": {},
   "source": [
    "### Utilisation d'un modèle personnalisé"
   ]
  },
  {
   "cell_type": "markdown",
   "metadata": {},
   "source": [
    "Pour extraire des données de formulaire à l’aide d’un modèle personnalisé, utilisez la fonction d’API REST Analyser le formulaire (ou une méthode équivalente du SDK) avec votre ID de modèle personnalisé (généré au cours de la formation du modèle). Cette fonction démarre l’analyse du formulaire et retourne un ID de résultat, que vous pouvez passer lors d’un appel ultérieur à la fonction Obtenir le résultat de l’analyse du formulaire afin de récupérer les résultats.\n",
    "\n",
    "La structure spécifique des résultats dépend des champs dans vos formulaires et de l’approche utilisée pour former votre modèle. Si vous avez formé le modèle à l’aide d’exemples de formulaires sans étiquettes, les résultats sont retournés dans un nœud pageResults. Si vous avez utilisé des formulaires étiquetés pour former le modèle, les résultats sont retournés dans le nœud documentResults. Les deux sont illustrés ci-dessous."
   ]
  },
  {
   "cell_type": "raw",
   "metadata": {},
   "source": [
    "{\n",
    "  \"status\": \"succeeded\",\n",
    "  \"createdDateTime\": \"2020-08-21T00:46Z\",\n",
    "  \"lastUpdatedDateTime\": \"2020-08-21T00:46Z\",\n",
    "  \"analyzeResult\": {\n",
    "    \"version\": \"2.0.0\",\n",
    "    \"readResults\": [\n",
    "      {\n",
    "        ...\n",
    "      }\n",
    "    ]\n",
    "    \"pageResults\" : [\n",
    "      {\n",
    "        \"page\": 1,\n",
    "        \"keyValuePairs\": [\n",
    "          {\n",
    "            \"Key\": {\n",
    "              \"Text\": \"Order Date\",\n",
    "              ...\n",
    "            },\n",
    "            \"Value\": {\n",
    "               \"Text\": \"01/01/2021\",\n",
    "               ...\n",
    "            },\n",
    "          ...\n",
    "          }\n",
    "        ]\n",
    "      }\n",
    "    ],\n",
    "    \"documentResults\" : [\n",
    "      ...\n",
    "    ]\n",
    "  }\n",
    "}"
   ]
  },
  {
   "cell_type": "markdown",
   "metadata": {},
   "source": [
    "### Utilisation d’un modèle prédéfini"
   ]
  },
  {
   "cell_type": "markdown",
   "metadata": {},
   "source": [
    "Pour extraire des données de formulaire à l’aide d’un modèle prédéfini, utilisez la fonction d’API REST Analyser"
   ]
  },
  {
   "cell_type": "markdown",
   "metadata": {},
   "source": [
    "- [Analyser le reçu](https://westcentralus.dev.cognitive.microsoft.com/docs/services/form-recognizer-api-v2-1-preview-3/operations/AnalyzeReceiptAsync)\n",
    "- [Analyser la carte de visite](https://westcentralus.dev.cognitive.microsoft.com/docs/services/form-recognizer-api-v2-1-preview-3/operations/AnalyzeBusinessCardAsync)\n",
    "- [Analyser une facture](https://westcentralus.dev.cognitive.microsoft.com/docs/services/form-recognizer-api-v2-1-preview-3/operations/5ed8c9843c2794cbb1a96291)"
   ]
  },
  {
   "cell_type": "markdown",
   "metadata": {},
   "source": [
    "Cette fonction démarre l’analyse du formulaire et retourne un ID de résultat, que vous pouvez passer lors d’un appel ultérieur à la fonction Obtenir le résultat de l’analyse afin de récupérer les résultats."
   ]
  },
  {
   "cell_type": "markdown",
   "metadata": {},
   "source": [
    "- [Obtenir le résultat de l’analyse du reçu](https://westcentralus.dev.cognitive.microsoft.com/docs/services/form-recognizer-api-v2-1-preview-3/operations/GetAnalyzeReceiptResult)\n",
    "- [Obtenir le résultat de l’analyse de la carte de visite](https://westcentralus.dev.cognitive.microsoft.com/docs/services/form-recognizer-api-v2-1-preview-3/operations/GetAnalyzeBusinessCardResult)\n",
    "- [Obtenir le résultat de l’analyse de la facture](https://westcentralus.dev.cognitive.microsoft.com/docs/services/form-recognizer-api-v2-1-preview-3/operations/5ed8c9acb78c40a2533aee83)"
   ]
  },
  {
   "cell_type": "markdown",
   "metadata": {},
   "source": [
    "Une réponse JSON réussie contient les nœuds readResults et documentResults.\n",
    "\n",
    "Le nœud readResults contient tout le texte reconnu. Le texte est organisé par page, puis par ligne, puis par mots individuels.\n",
    "\n",
    "Le nœud documentResults contient les valeurs spécifiques au formulaire découvertes par le modèle. C’est là que vous trouverez des paires clé/valeur utiles comme le prénom, le nom, le nom de la société, etc.\n",
    "\n",
    "Selon le formulaire analysé, la réponse peut également contenir pageResults, qui comprend les tables extraites.\n",
    "\n",
    "Exemple de réponse Obtenir le résultat de l’analyse du reçu :"
   ]
  },
  {
   "cell_type": "raw",
   "metadata": {},
   "source": [
    "{\n",
    "    \"status\": \"succeeded\",\n",
    "    \"createdDateTime\": \"2021-03-29T21:12:40Z\",\n",
    "    \"lastUpdatedDateTime\": \"2021-03-29T21:12:44Z\",\n",
    "    \"analyzeResult\": {\n",
    "        \"version\": \"2.1.0\",\n",
    "        \"readResults\": [\n",
    "            {\n",
    "                ...\n",
    "                \"lines\": [\n",
    "                    {\n",
    "                        \"text\": \"Northwind Traders\",\n",
    "                        \"boundingBox\": [\n",
    "                            20,\n",
    "                            17,\n",
    "                            235,\n",
    "                            17,\n",
    "                            235,\n",
    "                            44,\n",
    "                            20,\n",
    "                            44\n",
    "                        ],\n",
    "                        \"words\": [\n",
    "                            {\n",
    "                                \"text\": \"Northwind\",\n",
    "                                \"boundingBox\": [\n",
    "                                    20,\n",
    "                                    17,\n",
    "                                    140,\n",
    "                                    17,\n",
    "                                    140,\n",
    "                                    45,\n",
    "                                    20,\n",
    "                                    45\n",
    "                                ],\n",
    "                                \"confidence\": 0.994\n",
    "                            },\n",
    "                            {\n",
    "                                \"text\": \"Traders\",\n",
    "                                \"boundingBox\": [\n",
    "                                    148,\n",
    "                                    17,\n",
    "                                    234,\n",
    "                                    17,\n",
    "                                    234,\n",
    "                                    45,\n",
    "                                    147,\n",
    "                                    45\n",
    "                                ],\n",
    "                                \"confidence\": 0.996\n",
    "        ...,\n",
    "        \"documentResults\": [\n",
    "        {\n",
    "            \"docType\": \"prebuilt:receipt\",\n",
    "            \"pageRange\": [\n",
    "                1,\n",
    "                1\n",
    "            ],\n",
    "            \"fields\": {\n",
    "                \"Items\": {\n",
    "                    \"type\": \"array\",\n",
    "                    \"valueArray\": [\n",
    "                        {\n",
    "                            \"type\": \"object\",\n",
    "                            \"valueObject\": {\n",
    "                                \"Name\": {\n",
    "                                    \"type\": \"string\",\n",
    "                                    \"valueString\": \"Apple\",\n",
    "                                    \"text\": \"Apple\",\n",
    "                                    \"boundingBox\": [\n",
    "                                        32,\n",
    "                                        267,\n",
    "                                        92,\n",
    "                                        267,\n",
    "                                        92,\n",
    "                                        291,\n",
    "                                        32,\n",
    "                                        291\n",
    "                                    ],\n",
    "                                    \"page\": 1,\n",
    "                                    \"confidence\": 0.991,\n",
    "                                    \"elements\": [\n",
    "                                        \"#/readResults/0/lines/4/words/1\"\n",
    "                                    ]\n",
    "                                },\n",
    "    ...\n",
    "}"
   ]
  },
  {
   "cell_type": "markdown",
   "metadata": {},
   "source": [
    "### Comprendre les scores de confiance"
   ]
  },
  {
   "cell_type": "markdown",
   "metadata": {},
   "source": [
    "Si les valeurs de confiance de readResults sont faibles, essayez d’améliorer la qualité de vos documens d’entrée.\n",
    "\n",
    "Vous devez également vous assurer que le formulaire que vous analysez a une apparence similaire aux formulaires dans le jeu de formation si les valeurs de confiance de pageResults sont faibles. Si l’apparence du formulaire varie, envisagez de former plusieurs modèles, chaque modèle étant axé sur un format de formulaire.\n",
    "\n",
    "Selon le cas d’utilisation, vous constaterez peut-être qu’un score de confiance de 80 % ou plus est acceptable pour une application à faible risque. Pour les cas plus sensibles, tels que la lecture de dossiers médicaux ou de relevés de facturation, un score de 100 % est recommandé."
   ]
  },
  {
   "cell_type": "code",
   "execution_count": null,
   "metadata": {},
   "outputs": [],
   "source": []
  }
 ],
 "metadata": {
  "kernelspec": {
   "display_name": "Python 3",
   "language": "python",
   "name": "python3"
  },
  "language_info": {
   "codemirror_mode": {
    "name": "ipython",
    "version": 3
   },
   "file_extension": ".py",
   "mimetype": "text/x-python",
   "name": "python",
   "nbconvert_exporter": "python",
   "pygments_lexer": "ipython3",
   "version": "3.8.5"
  }
 },
 "nbformat": 4,
 "nbformat_minor": 4
}
